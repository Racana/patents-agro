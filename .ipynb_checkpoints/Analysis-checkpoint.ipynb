{
 "cells": [
  {
   "cell_type": "code",
   "execution_count": 1,
   "id": "c8c7bce9",
   "metadata": {},
   "outputs": [],
   "source": [
    "import pandas as pd\n",
    "import numpy as np\n",
    "\n",
    "import warnings\n",
    "\n",
    "pd.set_option('display.max_rows', 1000)\n",
    "pd.set_option('display.max_columns', 1000)\n",
    "warnings.filterwarnings('ignore')"
   ]
  },
  {
   "cell_type": "markdown",
   "id": "8161180f",
   "metadata": {},
   "source": [
    "### Input Files"
   ]
  },
  {
   "cell_type": "code",
   "execution_count": 2,
   "id": "9094230d",
   "metadata": {},
   "outputs": [],
   "source": [
    "df = pd.read_pickle('metadata.pkl')"
   ]
  },
  {
   "cell_type": "code",
   "execution_count": 3,
   "id": "d2e84269",
   "metadata": {},
   "outputs": [
    {
     "data": {
      "text/plain": [
       "(321135, 19)"
      ]
     },
     "execution_count": 3,
     "metadata": {},
     "output_type": "execute_result"
    }
   ],
   "source": [
    "df.shape #tenemos 321,135 registros de patentes"
   ]
  },
  {
   "cell_type": "markdown",
   "id": "37f7c884",
   "metadata": {},
   "source": [
    "### Clean"
   ]
  },
  {
   "cell_type": "code",
   "execution_count": 4,
   "id": "29b0260e",
   "metadata": {},
   "outputs": [],
   "source": [
    "df = df.drop(columns=['code', 'inventive', 'first'])"
   ]
  },
  {
   "cell_type": "code",
   "execution_count": 5,
   "id": "afc4c753",
   "metadata": {},
   "outputs": [],
   "source": [
    "df = df.loc[df.astype(str).drop_duplicates().index]"
   ]
  },
  {
   "cell_type": "code",
   "execution_count": 6,
   "id": "377f38be",
   "metadata": {},
   "outputs": [],
   "source": [
    "df = df.set_index('publication_number')"
   ]
  },
  {
   "cell_type": "code",
   "execution_count": 7,
   "id": "29fdf27b",
   "metadata": {},
   "outputs": [],
   "source": [
    "inventors = df[['inventor_list', 'inventor_list_cc']].apply(pd.Series.explode)"
   ]
  },
  {
   "cell_type": "code",
   "execution_count": 8,
   "id": "87bed204",
   "metadata": {},
   "outputs": [],
   "source": [
    "assignees = df[['assignee_list', 'assignee_list_cc']].apply(pd.Series.explode)"
   ]
  },
  {
   "cell_type": "code",
   "execution_count": 9,
   "id": "9be702b0",
   "metadata": {},
   "outputs": [],
   "source": [
    "citations = df[['citations']].explode('citations')\n",
    "parents = df[['parents', 'parents_dates']].apply(pd.Series.explode)\n",
    "childs = df[['childs', 'childs_dates']].apply(pd.Series.explode)"
   ]
  },
  {
   "cell_type": "code",
   "execution_count": 10,
   "id": "88e428f9",
   "metadata": {},
   "outputs": [],
   "source": [
    "colnames = ['country_code', 'title', 'publication_date', 'filing_date', 'grant_date', 'amount_citation']\n",
    "df = df[colnames].join(inventors).join(assignees).join(parents).join(childs)"
   ]
  },
  {
   "cell_type": "code",
   "execution_count": 11,
   "id": "9cf73c90",
   "metadata": {},
   "outputs": [],
   "source": [
    "df = df.rename(columns={'inventor_list':'inventor', 'inventor_list_cc':'inventor_country',\n",
    "                      'assignee_list':'assignee', 'assignee_list_cc':'assignee_country',\n",
    "                      'parents':'parent', 'parents_dates':'parent_date',\n",
    "                      'childs':'child', 'childs_dates':'child_date'})"
   ]
  },
  {
   "cell_type": "code",
   "execution_count": 12,
   "id": "f266d845",
   "metadata": {},
   "outputs": [],
   "source": [
    "df = df.drop_duplicates()"
   ]
  },
  {
   "cell_type": "markdown",
   "id": "151633cf",
   "metadata": {},
   "source": [
    "### Description"
   ]
  },
  {
   "cell_type": "markdown",
   "id": "ff8d596b",
   "metadata": {},
   "source": [
    "Al analizar las patentes, podemos ver que tenemos 76,730 patentes publicadas en la Oficina de Patentes y Marcas Registradas de Estados Unidos, bajo el código CPC A01N.\n",
    "\n"
   ]
  },
  {
   "cell_type": "code",
   "execution_count": 13,
   "id": "00c84ef7",
   "metadata": {},
   "outputs": [
    {
     "data": {
      "text/plain": [
       "76730"
      ]
     },
     "execution_count": 13,
     "metadata": {},
     "output_type": "execute_result"
    }
   ],
   "source": [
    "df.index.nunique()"
   ]
  },
  {
   "cell_type": "code",
   "execution_count": 16,
   "id": "8c3e7af5",
   "metadata": {},
   "outputs": [],
   "source": [
    "countries = ['AR', 'CL', 'BR', 'CO', 'MX']"
   ]
  },
  {
   "cell_type": "code",
   "execution_count": 24,
   "id": "34c610cd",
   "metadata": {},
   "outputs": [
    {
     "name": "stdout",
     "output_type": "stream",
     "text": [
      "for the country: AR we have 82 patents\n",
      "for the country: CL we have 127 patents\n",
      "for the country: BR we have 439 patents\n",
      "for the country: CO we have 92 patents\n",
      "for the country: MX we have 146 patents\n"
     ]
    }
   ],
   "source": [
    "for country in countries:\n",
    "    shap = df[df.inventor_country == country]\n",
    "    print(f'for the country: {country} we have {shap.index.nunique()} patents')"
   ]
  },
  {
   "cell_type": "code",
   "execution_count": 25,
   "id": "35f678b0",
   "metadata": {},
   "outputs": [
    {
     "ename": "AttributeError",
     "evalue": "'DataFrame' object has no attribute 'date'",
     "output_type": "error",
     "traceback": [
      "\u001b[1;31m---------------------------------------------------------------------------\u001b[0m",
      "\u001b[1;31mAttributeError\u001b[0m                            Traceback (most recent call last)",
      "\u001b[1;32m<ipython-input-25-6c17b2ed138b>\u001b[0m in \u001b[0;36m<module>\u001b[1;34m\u001b[0m\n\u001b[1;32m----> 1\u001b[1;33m \u001b[0mdf\u001b[0m\u001b[1;33m.\u001b[0m\u001b[0mdate\u001b[0m\u001b[1;33m\u001b[0m\u001b[1;33m\u001b[0m\u001b[0m\n\u001b[0m",
      "\u001b[1;32m~\\anaconda3\\lib\\site-packages\\pandas\\core\\generic.py\u001b[0m in \u001b[0;36m__getattr__\u001b[1;34m(self, name)\u001b[0m\n\u001b[0;32m   5463\u001b[0m             \u001b[1;32mif\u001b[0m \u001b[0mself\u001b[0m\u001b[1;33m.\u001b[0m\u001b[0m_info_axis\u001b[0m\u001b[1;33m.\u001b[0m\u001b[0m_can_hold_identifiers_and_holds_name\u001b[0m\u001b[1;33m(\u001b[0m\u001b[0mname\u001b[0m\u001b[1;33m)\u001b[0m\u001b[1;33m:\u001b[0m\u001b[1;33m\u001b[0m\u001b[1;33m\u001b[0m\u001b[0m\n\u001b[0;32m   5464\u001b[0m                 \u001b[1;32mreturn\u001b[0m \u001b[0mself\u001b[0m\u001b[1;33m[\u001b[0m\u001b[0mname\u001b[0m\u001b[1;33m]\u001b[0m\u001b[1;33m\u001b[0m\u001b[1;33m\u001b[0m\u001b[0m\n\u001b[1;32m-> 5465\u001b[1;33m             \u001b[1;32mreturn\u001b[0m \u001b[0mobject\u001b[0m\u001b[1;33m.\u001b[0m\u001b[0m__getattribute__\u001b[0m\u001b[1;33m(\u001b[0m\u001b[0mself\u001b[0m\u001b[1;33m,\u001b[0m \u001b[0mname\u001b[0m\u001b[1;33m)\u001b[0m\u001b[1;33m\u001b[0m\u001b[1;33m\u001b[0m\u001b[0m\n\u001b[0m\u001b[0;32m   5466\u001b[0m \u001b[1;33m\u001b[0m\u001b[0m\n\u001b[0;32m   5467\u001b[0m     \u001b[1;32mdef\u001b[0m \u001b[0m__setattr__\u001b[0m\u001b[1;33m(\u001b[0m\u001b[0mself\u001b[0m\u001b[1;33m,\u001b[0m \u001b[0mname\u001b[0m\u001b[1;33m:\u001b[0m \u001b[0mstr\u001b[0m\u001b[1;33m,\u001b[0m \u001b[0mvalue\u001b[0m\u001b[1;33m)\u001b[0m \u001b[1;33m->\u001b[0m \u001b[1;32mNone\u001b[0m\u001b[1;33m:\u001b[0m\u001b[1;33m\u001b[0m\u001b[1;33m\u001b[0m\u001b[0m\n",
      "\u001b[1;31mAttributeError\u001b[0m: 'DataFrame' object has no attribute 'date'"
     ]
    }
   ],
   "source": [
    "df.date"
   ]
  }
 ],
 "metadata": {
  "kernelspec": {
   "display_name": "Python 3",
   "language": "python",
   "name": "python3"
  },
  "language_info": {
   "codemirror_mode": {
    "name": "ipython",
    "version": 3
   },
   "file_extension": ".py",
   "mimetype": "text/x-python",
   "name": "python",
   "nbconvert_exporter": "python",
   "pygments_lexer": "ipython3",
   "version": "3.8.8"
  }
 },
 "nbformat": 4,
 "nbformat_minor": 5
}
