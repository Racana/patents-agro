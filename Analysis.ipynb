{
 "cells": [
  {
   "cell_type": "code",
   "execution_count": 190,
   "id": "6aeafe8b",
   "metadata": {},
   "outputs": [
    {
     "name": "stdout",
     "output_type": "stream",
     "text": [
      "Collecting adjustText\n",
      "  Downloading adjustText-0.7.3.tar.gz (7.5 kB)\n",
      "Requirement already satisfied: numpy in c:\\users\\el_ra\\anaconda3\\lib\\site-packages (from adjustText) (1.19.5)\n",
      "Requirement already satisfied: matplotlib in c:\\users\\el_ra\\anaconda3\\lib\\site-packages (from adjustText) (3.3.4)\n",
      "Requirement already satisfied: kiwisolver>=1.0.1 in c:\\users\\el_ra\\anaconda3\\lib\\site-packages (from matplotlib->adjustText) (1.3.1)\n",
      "Requirement already satisfied: python-dateutil>=2.1 in c:\\users\\el_ra\\anaconda3\\lib\\site-packages (from matplotlib->adjustText) (2.8.1)\n",
      "Requirement already satisfied: pyparsing!=2.0.4,!=2.1.2,!=2.1.6,>=2.0.3 in c:\\users\\el_ra\\anaconda3\\lib\\site-packages (from matplotlib->adjustText) (2.4.7)\n",
      "Requirement already satisfied: cycler>=0.10 in c:\\users\\el_ra\\anaconda3\\lib\\site-packages (from matplotlib->adjustText) (0.10.0)\n",
      "Requirement already satisfied: pillow>=6.2.0 in c:\\users\\el_ra\\anaconda3\\lib\\site-packages (from matplotlib->adjustText) (8.2.0)\n",
      "Requirement already satisfied: six in c:\\users\\el_ra\\anaconda3\\lib\\site-packages (from cycler>=0.10->matplotlib->adjustText) (1.15.0)\n",
      "Building wheels for collected packages: adjustText\n",
      "  Building wheel for adjustText (setup.py): started\n",
      "  Building wheel for adjustText (setup.py): finished with status 'done'\n",
      "  Created wheel for adjustText: filename=adjustText-0.7.3-py3-none-any.whl size=7098 sha256=ba2abd6183711de234702ffbb49ddc6b73db51430850365cec2933a4b461bb0d\n",
      "  Stored in directory: c:\\users\\el_ra\\appdata\\local\\pip\\cache\\wheels\\06\\b2\\e0\\b239bd2c0ff89b98c4f0c86a63e7059f38a8dfaf6df2641c63\n",
      "Successfully built adjustText\n",
      "Installing collected packages: adjustText\n",
      "Successfully installed adjustText-0.7.3\n"
     ]
    }
   ],
   "source": [
    "!pip install adjustText"
   ]
  },
  {
   "cell_type": "code",
   "execution_count": 191,
   "id": "c8c7bce9",
   "metadata": {},
   "outputs": [],
   "source": [
    "import pandas as pd\n",
    "import numpy as np\n",
    "\n",
    "from datetime import datetime\n",
    "\n",
    "import matplotlib.pyplot as plt\n",
    "from adjustText import adjust_text\n",
    "\n",
    "import warnings\n",
    "\n",
    "pd.set_option('display.max_rows', 1000)\n",
    "pd.set_option('display.max_columns', 1000)\n",
    "warnings.filterwarnings('ignore')"
   ]
  },
  {
   "cell_type": "markdown",
   "id": "8161180f",
   "metadata": {},
   "source": [
    "### Input Files"
   ]
  },
  {
   "cell_type": "code",
   "execution_count": 94,
   "id": "9094230d",
   "metadata": {},
   "outputs": [],
   "source": [
    "df = pd.read_pickle('metadata.pkl')"
   ]
  },
  {
   "cell_type": "code",
   "execution_count": 95,
   "id": "d2e84269",
   "metadata": {},
   "outputs": [
    {
     "data": {
      "text/plain": [
       "(321135, 19)"
      ]
     },
     "execution_count": 95,
     "metadata": {},
     "output_type": "execute_result"
    }
   ],
   "source": [
    "df.shape #tenemos 321,135 registros de patentes"
   ]
  },
  {
   "cell_type": "markdown",
   "id": "37f7c884",
   "metadata": {},
   "source": [
    "### Clean"
   ]
  },
  {
   "cell_type": "code",
   "execution_count": 96,
   "id": "29b0260e",
   "metadata": {},
   "outputs": [],
   "source": [
    "df = df.drop(columns=['code', 'inventive', 'first'])"
   ]
  },
  {
   "cell_type": "code",
   "execution_count": 97,
   "id": "afc4c753",
   "metadata": {},
   "outputs": [],
   "source": [
    "df = df.loc[df.astype(str).drop_duplicates().index]"
   ]
  },
  {
   "cell_type": "code",
   "execution_count": 98,
   "id": "377f38be",
   "metadata": {},
   "outputs": [],
   "source": [
    "df = df.set_index('publication_number')"
   ]
  },
  {
   "cell_type": "code",
   "execution_count": 99,
   "id": "29fdf27b",
   "metadata": {},
   "outputs": [],
   "source": [
    "inventors = df[['inventor_list', 'inventor_list_cc']].apply(pd.Series.explode)"
   ]
  },
  {
   "cell_type": "code",
   "execution_count": 100,
   "id": "87bed204",
   "metadata": {},
   "outputs": [],
   "source": [
    "assignees = df[['assignee_list', 'assignee_list_cc']].apply(pd.Series.explode)"
   ]
  },
  {
   "cell_type": "code",
   "execution_count": 101,
   "id": "9be702b0",
   "metadata": {},
   "outputs": [],
   "source": [
    "citations = df[['citations']].explode('citations')\n",
    "parents = df[['parents', 'parents_dates']].apply(pd.Series.explode)\n",
    "childs = df[['childs', 'childs_dates']].apply(pd.Series.explode)"
   ]
  },
  {
   "cell_type": "code",
   "execution_count": 102,
   "id": "88e428f9",
   "metadata": {},
   "outputs": [],
   "source": [
    "colnames = ['country_code', 'title', 'publication_date', 'filing_date', 'grant_date', 'amount_citation']\n",
    "df = df[colnames].join(inventors).join(assignees).join(parents).join(childs)"
   ]
  },
  {
   "cell_type": "code",
   "execution_count": 103,
   "id": "9cf73c90",
   "metadata": {},
   "outputs": [],
   "source": [
    "df = df.rename(columns={'inventor_list':'inventor', 'inventor_list_cc':'inventor_country',\n",
    "                      'assignee_list':'assignee', 'assignee_list_cc':'assignee_country',\n",
    "                      'parents':'parent', 'parents_dates':'parent_date',\n",
    "                      'childs':'child', 'childs_dates':'child_date'})"
   ]
  },
  {
   "cell_type": "code",
   "execution_count": 104,
   "id": "f266d845",
   "metadata": {},
   "outputs": [],
   "source": [
    "df = df.drop_duplicates()"
   ]
  },
  {
   "cell_type": "code",
   "execution_count": 105,
   "id": "ba1ba5f7",
   "metadata": {},
   "outputs": [
    {
     "data": {
      "text/html": [
       "<div>\n",
       "<style scoped>\n",
       "    .dataframe tbody tr th:only-of-type {\n",
       "        vertical-align: middle;\n",
       "    }\n",
       "\n",
       "    .dataframe tbody tr th {\n",
       "        vertical-align: top;\n",
       "    }\n",
       "\n",
       "    .dataframe thead th {\n",
       "        text-align: right;\n",
       "    }\n",
       "</style>\n",
       "<table border=\"1\" class=\"dataframe\">\n",
       "  <thead>\n",
       "    <tr style=\"text-align: right;\">\n",
       "      <th></th>\n",
       "      <th>country_code</th>\n",
       "      <th>title</th>\n",
       "      <th>publication_date</th>\n",
       "      <th>filing_date</th>\n",
       "      <th>grant_date</th>\n",
       "      <th>amount_citation</th>\n",
       "      <th>inventor</th>\n",
       "      <th>inventor_country</th>\n",
       "      <th>assignee</th>\n",
       "      <th>assignee_country</th>\n",
       "      <th>parent</th>\n",
       "      <th>parent_date</th>\n",
       "      <th>child</th>\n",
       "      <th>child_date</th>\n",
       "    </tr>\n",
       "    <tr>\n",
       "      <th>publication_number</th>\n",
       "      <th></th>\n",
       "      <th></th>\n",
       "      <th></th>\n",
       "      <th></th>\n",
       "      <th></th>\n",
       "      <th></th>\n",
       "      <th></th>\n",
       "      <th></th>\n",
       "      <th></th>\n",
       "      <th></th>\n",
       "      <th></th>\n",
       "      <th></th>\n",
       "      <th></th>\n",
       "      <th></th>\n",
       "    </tr>\n",
       "  </thead>\n",
       "  <tbody>\n",
       "    <tr>\n",
       "      <th>US-10000437-B2</th>\n",
       "      <td>US</td>\n",
       "      <td>Nitrogen containing surfactants with alkoxylat...</td>\n",
       "      <td>20180619</td>\n",
       "      <td>20140313</td>\n",
       "      <td>20180619</td>\n",
       "      <td>13</td>\n",
       "      <td>ZHU SHAWN</td>\n",
       "      <td>US</td>\n",
       "      <td>AKZO NOBEL CHEMICALS INT BV</td>\n",
       "      <td>NL</td>\n",
       "      <td>NaN</td>\n",
       "      <td>NaN</td>\n",
       "      <td>NaN</td>\n",
       "      <td>NaN</td>\n",
       "    </tr>\n",
       "    <tr>\n",
       "      <th>US-10000437-B2</th>\n",
       "      <td>US</td>\n",
       "      <td>Nitrogen containing surfactants with alkoxylat...</td>\n",
       "      <td>20180619</td>\n",
       "      <td>20140313</td>\n",
       "      <td>20180619</td>\n",
       "      <td>13</td>\n",
       "      <td>SU BIING-MING</td>\n",
       "      <td>US</td>\n",
       "      <td>AKZO NOBEL CHEMICALS INT BV</td>\n",
       "      <td>NL</td>\n",
       "      <td>NaN</td>\n",
       "      <td>NaN</td>\n",
       "      <td>NaN</td>\n",
       "      <td>NaN</td>\n",
       "    </tr>\n",
       "    <tr>\n",
       "      <th>US-10000437-B2</th>\n",
       "      <td>US</td>\n",
       "      <td>Nitrogen containing surfactants with alkoxylat...</td>\n",
       "      <td>20180619</td>\n",
       "      <td>20140313</td>\n",
       "      <td>20180619</td>\n",
       "      <td>13</td>\n",
       "      <td>NGUYEN GIAO VINH</td>\n",
       "      <td>US</td>\n",
       "      <td>AKZO NOBEL CHEMICALS INT BV</td>\n",
       "      <td>NL</td>\n",
       "      <td>NaN</td>\n",
       "      <td>NaN</td>\n",
       "      <td>NaN</td>\n",
       "      <td>NaN</td>\n",
       "    </tr>\n",
       "    <tr>\n",
       "      <th>US-10000437-B2</th>\n",
       "      <td>US</td>\n",
       "      <td>Nitrogen containing surfactants with alkoxylat...</td>\n",
       "      <td>20180619</td>\n",
       "      <td>20140313</td>\n",
       "      <td>20180619</td>\n",
       "      <td>13</td>\n",
       "      <td>SCHWARZMAYR LOUIS</td>\n",
       "      <td>SE</td>\n",
       "      <td>AKZO NOBEL CHEMICALS INT BV</td>\n",
       "      <td>NL</td>\n",
       "      <td>NaN</td>\n",
       "      <td>NaN</td>\n",
       "      <td>NaN</td>\n",
       "      <td>NaN</td>\n",
       "    </tr>\n",
       "    <tr>\n",
       "      <th>US-10000437-B2</th>\n",
       "      <td>US</td>\n",
       "      <td>Nitrogen containing surfactants with alkoxylat...</td>\n",
       "      <td>20180619</td>\n",
       "      <td>20140313</td>\n",
       "      <td>20180619</td>\n",
       "      <td>13</td>\n",
       "      <td>SUN JINXIA SUSAN</td>\n",
       "      <td>US</td>\n",
       "      <td>AKZO NOBEL CHEMICALS INT BV</td>\n",
       "      <td>NL</td>\n",
       "      <td>NaN</td>\n",
       "      <td>NaN</td>\n",
       "      <td>NaN</td>\n",
       "      <td>NaN</td>\n",
       "    </tr>\n",
       "    <tr>\n",
       "      <th>...</th>\n",
       "      <td>...</td>\n",
       "      <td>...</td>\n",
       "      <td>...</td>\n",
       "      <td>...</td>\n",
       "      <td>...</td>\n",
       "      <td>...</td>\n",
       "      <td>...</td>\n",
       "      <td>...</td>\n",
       "      <td>...</td>\n",
       "      <td>...</td>\n",
       "      <td>...</td>\n",
       "      <td>...</td>\n",
       "      <td>...</td>\n",
       "      <td>...</td>\n",
       "    </tr>\n",
       "    <tr>\n",
       "      <th>US-T953010-I4</th>\n",
       "      <td>US</td>\n",
       "      <td>Herbicidal combinations and method of controll...</td>\n",
       "      <td>19761207</td>\n",
       "      <td>19760428</td>\n",
       "      <td>19761207</td>\n",
       "      <td>0</td>\n",
       "      <td>NaN</td>\n",
       "      <td>NaN</td>\n",
       "      <td>NaN</td>\n",
       "      <td>NaN</td>\n",
       "      <td>US-54213375-A</td>\n",
       "      <td>19750117</td>\n",
       "      <td>NaN</td>\n",
       "      <td>NaN</td>\n",
       "    </tr>\n",
       "    <tr>\n",
       "      <th>US-T975002-I4</th>\n",
       "      <td>US</td>\n",
       "      <td>Method for controlling biofouling in drip irri...</td>\n",
       "      <td>19781003</td>\n",
       "      <td>19770727</td>\n",
       "      <td>19781003</td>\n",
       "      <td>0</td>\n",
       "      <td>NaN</td>\n",
       "      <td>NaN</td>\n",
       "      <td>NaN</td>\n",
       "      <td>NaN</td>\n",
       "      <td>NaN</td>\n",
       "      <td>NaN</td>\n",
       "      <td>NaN</td>\n",
       "      <td>NaN</td>\n",
       "    </tr>\n",
       "    <tr>\n",
       "      <th>US-T977008-I4</th>\n",
       "      <td>US</td>\n",
       "      <td>Control of nematodes with selected N-aminosulf...</td>\n",
       "      <td>19781205</td>\n",
       "      <td>19780320</td>\n",
       "      <td>19781205</td>\n",
       "      <td>0</td>\n",
       "      <td>NaN</td>\n",
       "      <td>NaN</td>\n",
       "      <td>NaN</td>\n",
       "      <td>NaN</td>\n",
       "      <td>US-73921876-A</td>\n",
       "      <td>19761105</td>\n",
       "      <td>NaN</td>\n",
       "      <td>NaN</td>\n",
       "    </tr>\n",
       "    <tr>\n",
       "      <th>US-T986003-I4</th>\n",
       "      <td>US</td>\n",
       "      <td>Method for controlling herbaceous weeds</td>\n",
       "      <td>19790904</td>\n",
       "      <td>19790221</td>\n",
       "      <td>19790904</td>\n",
       "      <td>0</td>\n",
       "      <td>NaN</td>\n",
       "      <td>NaN</td>\n",
       "      <td>NaN</td>\n",
       "      <td>NaN</td>\n",
       "      <td>NaN</td>\n",
       "      <td>NaN</td>\n",
       "      <td>NaN</td>\n",
       "      <td>NaN</td>\n",
       "    </tr>\n",
       "    <tr>\n",
       "      <th>US-T998012-I4</th>\n",
       "      <td>US</td>\n",
       "      <td>Protection of insect pheromones from degradati...</td>\n",
       "      <td>19800902</td>\n",
       "      <td>19800225</td>\n",
       "      <td>19800902</td>\n",
       "      <td>0</td>\n",
       "      <td>NaN</td>\n",
       "      <td>NaN</td>\n",
       "      <td>NaN</td>\n",
       "      <td>NaN</td>\n",
       "      <td>NaN</td>\n",
       "      <td>NaN</td>\n",
       "      <td>NaN</td>\n",
       "      <td>NaN</td>\n",
       "    </tr>\n",
       "  </tbody>\n",
       "</table>\n",
       "<p>642421 rows × 14 columns</p>\n",
       "</div>"
      ],
      "text/plain": [
       "                   country_code  \\\n",
       "publication_number                \n",
       "US-10000437-B2               US   \n",
       "US-10000437-B2               US   \n",
       "US-10000437-B2               US   \n",
       "US-10000437-B2               US   \n",
       "US-10000437-B2               US   \n",
       "...                         ...   \n",
       "US-T953010-I4                US   \n",
       "US-T975002-I4                US   \n",
       "US-T977008-I4                US   \n",
       "US-T986003-I4                US   \n",
       "US-T998012-I4                US   \n",
       "\n",
       "                                                                title  \\\n",
       "publication_number                                                      \n",
       "US-10000437-B2      Nitrogen containing surfactants with alkoxylat...   \n",
       "US-10000437-B2      Nitrogen containing surfactants with alkoxylat...   \n",
       "US-10000437-B2      Nitrogen containing surfactants with alkoxylat...   \n",
       "US-10000437-B2      Nitrogen containing surfactants with alkoxylat...   \n",
       "US-10000437-B2      Nitrogen containing surfactants with alkoxylat...   \n",
       "...                                                               ...   \n",
       "US-T953010-I4       Herbicidal combinations and method of controll...   \n",
       "US-T975002-I4       Method for controlling biofouling in drip irri...   \n",
       "US-T977008-I4       Control of nematodes with selected N-aminosulf...   \n",
       "US-T986003-I4                 Method for controlling herbaceous weeds   \n",
       "US-T998012-I4       Protection of insect pheromones from degradati...   \n",
       "\n",
       "                   publication_date filing_date grant_date  amount_citation  \\\n",
       "publication_number                                                            \n",
       "US-10000437-B2             20180619    20140313   20180619               13   \n",
       "US-10000437-B2             20180619    20140313   20180619               13   \n",
       "US-10000437-B2             20180619    20140313   20180619               13   \n",
       "US-10000437-B2             20180619    20140313   20180619               13   \n",
       "US-10000437-B2             20180619    20140313   20180619               13   \n",
       "...                             ...         ...        ...              ...   \n",
       "US-T953010-I4              19761207    19760428   19761207                0   \n",
       "US-T975002-I4              19781003    19770727   19781003                0   \n",
       "US-T977008-I4              19781205    19780320   19781205                0   \n",
       "US-T986003-I4              19790904    19790221   19790904                0   \n",
       "US-T998012-I4              19800902    19800225   19800902                0   \n",
       "\n",
       "                             inventor inventor_country  \\\n",
       "publication_number                                       \n",
       "US-10000437-B2              ZHU SHAWN               US   \n",
       "US-10000437-B2          SU BIING-MING               US   \n",
       "US-10000437-B2       NGUYEN GIAO VINH               US   \n",
       "US-10000437-B2      SCHWARZMAYR LOUIS               SE   \n",
       "US-10000437-B2       SUN JINXIA SUSAN               US   \n",
       "...                               ...              ...   \n",
       "US-T953010-I4                     NaN              NaN   \n",
       "US-T975002-I4                     NaN              NaN   \n",
       "US-T977008-I4                     NaN              NaN   \n",
       "US-T986003-I4                     NaN              NaN   \n",
       "US-T998012-I4                     NaN              NaN   \n",
       "\n",
       "                                       assignee assignee_country  \\\n",
       "publication_number                                                 \n",
       "US-10000437-B2      AKZO NOBEL CHEMICALS INT BV               NL   \n",
       "US-10000437-B2      AKZO NOBEL CHEMICALS INT BV               NL   \n",
       "US-10000437-B2      AKZO NOBEL CHEMICALS INT BV               NL   \n",
       "US-10000437-B2      AKZO NOBEL CHEMICALS INT BV               NL   \n",
       "US-10000437-B2      AKZO NOBEL CHEMICALS INT BV               NL   \n",
       "...                                         ...              ...   \n",
       "US-T953010-I4                               NaN              NaN   \n",
       "US-T975002-I4                               NaN              NaN   \n",
       "US-T977008-I4                               NaN              NaN   \n",
       "US-T986003-I4                               NaN              NaN   \n",
       "US-T998012-I4                               NaN              NaN   \n",
       "\n",
       "                           parent parent_date child child_date  \n",
       "publication_number                                              \n",
       "US-10000437-B2                NaN         NaN   NaN        NaN  \n",
       "US-10000437-B2                NaN         NaN   NaN        NaN  \n",
       "US-10000437-B2                NaN         NaN   NaN        NaN  \n",
       "US-10000437-B2                NaN         NaN   NaN        NaN  \n",
       "US-10000437-B2                NaN         NaN   NaN        NaN  \n",
       "...                           ...         ...   ...        ...  \n",
       "US-T953010-I4       US-54213375-A    19750117   NaN        NaN  \n",
       "US-T975002-I4                 NaN         NaN   NaN        NaN  \n",
       "US-T977008-I4       US-73921876-A    19761105   NaN        NaN  \n",
       "US-T986003-I4                 NaN         NaN   NaN        NaN  \n",
       "US-T998012-I4                 NaN         NaN   NaN        NaN  \n",
       "\n",
       "[642421 rows x 14 columns]"
      ]
     },
     "execution_count": 105,
     "metadata": {},
     "output_type": "execute_result"
    }
   ],
   "source": [
    "df"
   ]
  },
  {
   "cell_type": "markdown",
   "id": "12121d97",
   "metadata": {},
   "source": [
    "### Generate dates and other variables"
   ]
  },
  {
   "cell_type": "code",
   "execution_count": 106,
   "id": "5b4667af",
   "metadata": {},
   "outputs": [],
   "source": [
    "df.publication_date = df.publication_date.apply(lambda x: datetime.strptime(x, '%Y%M%d'))\n",
    "df.filing_date = df.filing_date.apply(lambda x: datetime.strptime(x, '%Y%M%d') if x != '0' else np.nan)\n",
    "df.grant_date = df.grant_date.apply(lambda x: datetime.strptime(x, '%Y%M%d') if x != '0' else np.nan)\n",
    "df.parent_date = pd.to_datetime(df['parent_date'], errors='coerce')\n",
    "df.child_date = pd.to_datetime(df['child_date'], errors='coerce')"
   ]
  },
  {
   "cell_type": "code",
   "execution_count": 107,
   "id": "87b654c4",
   "metadata": {},
   "outputs": [
    {
     "data": {
      "text/plain": [
       "(605, 322318)"
      ]
     },
     "execution_count": 107,
     "metadata": {},
     "output_type": "execute_result"
    }
   ],
   "source": [
    "df.filing_date.isna().sum(), df.grant_date.isna().sum()"
   ]
  },
  {
   "cell_type": "code",
   "execution_count": 108,
   "id": "347cc900",
   "metadata": {},
   "outputs": [],
   "source": [
    "df['publication_month'] = df.publication_date.dt.month\n",
    "df['publication_quarter'] = df.publication_date.dt.quarter\n",
    "df['publication_year'] = df.publication_date.dt.year"
   ]
  },
  {
   "cell_type": "markdown",
   "id": "151633cf",
   "metadata": {},
   "source": [
    "### Description"
   ]
  },
  {
   "cell_type": "markdown",
   "id": "ff8d596b",
   "metadata": {},
   "source": [
    "Al analizar las patentes, podemos ver que tenemos 76,730 patentes publicadas en la Oficina de Patentes y Marcas Registradas de Estados Unidos, bajo el código CPC A01N.\n",
    "\n"
   ]
  },
  {
   "cell_type": "code",
   "execution_count": 109,
   "id": "00c84ef7",
   "metadata": {},
   "outputs": [
    {
     "data": {
      "text/plain": [
       "76730"
      ]
     },
     "execution_count": 109,
     "metadata": {},
     "output_type": "execute_result"
    }
   ],
   "source": [
    "df.index.nunique()"
   ]
  },
  {
   "cell_type": "code",
   "execution_count": 110,
   "id": "8c3e7af5",
   "metadata": {},
   "outputs": [],
   "source": [
    "countries = ['AR', 'CL', 'BR', 'CO', 'MX']"
   ]
  },
  {
   "cell_type": "code",
   "execution_count": 111,
   "id": "34c610cd",
   "metadata": {},
   "outputs": [
    {
     "name": "stdout",
     "output_type": "stream",
     "text": [
      "for the country: AR we have 82 patents\n",
      "for the country: CL we have 127 patents\n",
      "for the country: BR we have 439 patents\n",
      "for the country: CO we have 92 patents\n",
      "for the country: MX we have 146 patents\n"
     ]
    }
   ],
   "source": [
    "for country in countries:\n",
    "    shap = df[df.inventor_country == country]\n",
    "    print(f'for the country: {country} we have {shap.index.nunique()} patents')"
   ]
  },
  {
   "cell_type": "code",
   "execution_count": 125,
   "id": "0dd74091",
   "metadata": {},
   "outputs": [
    {
     "data": {
      "text/plain": [
       "['AR', 'CL', 'BR', 'CO', 'MX']"
      ]
     },
     "execution_count": 125,
     "metadata": {},
     "output_type": "execute_result"
    }
   ],
   "source": [
    "countries"
   ]
  },
  {
   "cell_type": "code",
   "execution_count": 129,
   "id": "09d017a4",
   "metadata": {
    "scrolled": true
   },
   "outputs": [],
   "source": [
    "g = df[df.inventor_country.isin(countries)].reset_index().groupby(['publication_year', 'inventor_country'])['publication_number'].nunique().reset_index()\n",
    "g['cum_pubs'] = g.groupby(['inventor_country'])['publication_number'].cumsum()"
   ]
  },
  {
   "cell_type": "code",
   "execution_count": 173,
   "id": "92121c03",
   "metadata": {},
   "outputs": [
    {
     "data": {
      "image/png": "[encoded data removed]",
      "text/plain": [
       "<Figure size 1044x612 with 1 Axes>"
      ]
     },
     "metadata": {
      "needs_background": "light"
     },
     "output_type": "display_data"
    }
   ],
   "source": [
    "g = g[g.publication_year >= 1980]\n",
    "fig, ax = plt.subplots()\n",
    "fig.set_size_inches(14.5, 8.5)\n",
    "for country in countries:\n",
    "    publications = g[g.inventor_country == country]['cum_pubs'].values\n",
    "    years = g[g.inventor_country == country]['publication_year'].values\n",
    "    ax.plot(years, publications, label=country)\n",
    "\n",
    "texts = [ax.text(2021+0.5, value, value) for value in g[g['publication_year'] == 2021]['cum_pubs'].values]\n",
    "plt.legend(prop={'size': 15})\n",
    "plt.title('Cumulative patents publicated by year')\n",
    "plt.ylabel('Patents publicated')\n",
    "plt.show()"
   ]
  },
  {
   "cell_type": "code",
   "execution_count": 197,
   "id": "35bc1d10",
   "metadata": {},
   "outputs": [
    {
     "data": {
      "image/png": "[encoded data removed]",
      "text/plain": [
       "<Figure size 1044x612 with 1 Axes>"
      ]
     },
     "metadata": {
      "needs_background": "light"
     },
     "output_type": "display_data"
    }
   ],
   "source": [
    "g_2000 = g[(g.publication_year >= 2000) & (g.inventor_country != 'BR')]\n",
    "fig, ax = plt.subplots()\n",
    "fig.set_size_inches(14.5, 8.5)\n",
    "for country in g_2000.inventor_country.unique():\n",
    "    publications = g_2000[g_2000.inventor_country == country]['cum_pubs'].values\n",
    "    years = g_2000[g_2000.inventor_country == country]['publication_year'].values\n",
    "    ax.plot(years, publications, label=country, marker = '.', linestyle = '-')\n",
    "\n",
    "texts = [ax.text(year, value, value) for value, year in g_2000[['cum_pubs', 'publication_year']].values]\n",
    "adjust_text(texts)\n",
    "plt.legend(prop={'size': 15})\n",
    "plt.title('Cumulative patents publicated by year')\n",
    "plt.ylabel('Patents publicated')\n",
    "plt.show()"
   ]
  },
  {
   "cell_type": "code",
   "execution_count": null,
   "id": "bc8080b9",
   "metadata": {},
   "outputs": [],
   "source": []
  }
 ],
 "metadata": {
  "kernelspec": {
   "display_name": "Python 3",
   "language": "python",
   "name": "python3"
  },
  "language_info": {
   "codemirror_mode": {
    "name": "ipython",
    "version": 3
   },
   "file_extension": ".py",
   "mimetype": "text/x-python",
   "name": "python",
   "nbconvert_exporter": "python",
   "pygments_lexer": "ipython3",
   "version": "3.8.8"
  }
 },
 "nbformat": 4,
 "nbformat_minor": 5
}
